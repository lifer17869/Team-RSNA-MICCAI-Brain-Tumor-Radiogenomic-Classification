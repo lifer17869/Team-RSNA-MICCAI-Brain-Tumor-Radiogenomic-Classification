{
  "nbformat": 4,
  "nbformat_minor": 0,
  "metadata": {
    "colab": {
      "name": "rsna_withresnet_on whole dataset_with_output._ipynb",
      "provenance": [],
      "collapsed_sections": []
    },
    "kernelspec": {
      "display_name": "Python 3",
      "name": "python3"
    },
    "language_info": {
      "name": "python"
    }
  },
  "cells": [
    {
      "cell_type": "code",
      "metadata": {
        "id": "pp6HucSULsa3"
      },
      "source": [
        "import tensorflow as tf\n",
        "from tensorflow import keras"
      ],
      "execution_count": 1,
      "outputs": []
    },
    {
      "cell_type": "code",
      "metadata": {
        "colab": {
          "base_uri": "https://localhost:8080/"
        },
        "id": "kNZng8othuP9",
        "outputId": "269e466a-369e-4ab2-dd42-ecb4300f081c"
      },
      "source": [
        "pip install pydicom"
      ],
      "execution_count": 2,
      "outputs": [
        {
          "output_type": "stream",
          "name": "stdout",
          "text": [
            "Collecting pydicom\n",
            "  Downloading pydicom-2.2.2-py3-none-any.whl (2.0 MB)\n",
            "\u001b[K     |████████████████████████████████| 2.0 MB 9.3 MB/s \n",
            "\u001b[?25hInstalling collected packages: pydicom\n",
            "Successfully installed pydicom-2.2.2\n"
          ]
        }
      ]
    },
    {
      "cell_type": "code",
      "metadata": {
        "colab": {
          "base_uri": "https://localhost:8080/"
        },
        "id": "r0abl448xlKM",
        "outputId": "ceb14886-da15-4f0d-d1c5-6790b71c4d3b"
      },
      "source": [
        "pip install patool"
      ],
      "execution_count": 3,
      "outputs": [
        {
          "output_type": "stream",
          "name": "stdout",
          "text": [
            "Collecting patool\n",
            "  Downloading patool-1.12-py2.py3-none-any.whl (77 kB)\n",
            "\u001b[?25l\r\u001b[K     |████▎                           | 10 kB 25.4 MB/s eta 0:00:01\r\u001b[K     |████████▌                       | 20 kB 29.0 MB/s eta 0:00:01\r\u001b[K     |████████████▊                   | 30 kB 20.1 MB/s eta 0:00:01\r\u001b[K     |█████████████████               | 40 kB 16.9 MB/s eta 0:00:01\r\u001b[K     |█████████████████████▏          | 51 kB 8.3 MB/s eta 0:00:01\r\u001b[K     |█████████████████████████▍      | 61 kB 9.6 MB/s eta 0:00:01\r\u001b[K     |█████████████████████████████▋  | 71 kB 9.1 MB/s eta 0:00:01\r\u001b[K     |████████████████████████████████| 77 kB 4.5 MB/s \n",
            "\u001b[?25hInstalling collected packages: patool\n",
            "Successfully installed patool-1.12\n"
          ]
        }
      ]
    },
    {
      "cell_type": "code",
      "metadata": {
        "id": "jwzOmJe2wy6v",
        "colab": {
          "base_uri": "https://localhost:8080/",
          "height": 106
        },
        "outputId": "8a9aba9a-235c-475b-d08e-f027ca0e3d4b"
      },
      "source": [
        "import patoolib\n",
        "patoolib.extract_archive(\"/content/drive/MyDrive/train_subset.rar\", outdir=\"/content/sample_data\")"
      ],
      "execution_count": 4,
      "outputs": [
        {
          "output_type": "stream",
          "name": "stdout",
          "text": [
            "patool: Extracting /content/drive/MyDrive/train_subset.rar ...\n",
            "patool: running /usr/bin/unrar x -- /content/drive/MyDrive/train_subset.rar\n",
            "patool:     with cwd='/content/sample_data'\n",
            "patool: ... /content/drive/MyDrive/train_subset.rar extracted to `/content/sample_data'.\n"
          ]
        },
        {
          "output_type": "execute_result",
          "data": {
            "application/vnd.google.colaboratory.intrinsic+json": {
              "type": "string"
            },
            "text/plain": [
              "'/content/sample_data'"
            ]
          },
          "metadata": {},
          "execution_count": 4
        }
      ]
    },
    {
      "cell_type": "code",
      "metadata": {
        "id": "K15XdCi3yE6D"
      },
      "source": [
        "import sys\n",
        "import os\n",
        "import glob\n",
        "import random\n",
        "import time\n",
        "\n",
        "import numpy as np\n",
        "import pandas as pd\n",
        "\n",
        "import cv2\n",
        "import matplotlib.pyplot as plt\n",
        "from mpl_toolkits.axes_grid1 import ImageGrid\n",
        "from sklearn.model_selection import train_test_split\n",
        "\n",
        "from torch.utils.data import Dataset"
      ],
      "execution_count": 5,
      "outputs": []
    },
    {
      "cell_type": "code",
      "metadata": {
        "id": "bWIQ9nOWfowx"
      },
      "source": [
        "import pydicom\n",
        "from pydicom.pixel_data_handlers.util import apply_voi_lut\n",
        "\n",
        "from sklearn.model_selection import StratifiedKFold\n",
        "from sklearn.metrics import roc_auc_score\n",
        "import glob"
      ],
      "execution_count": 6,
      "outputs": []
    },
    {
      "cell_type": "code",
      "metadata": {
        "id": "2VImVXqgHyqB"
      },
      "source": [
        "lables = os.listdir('/content/sample_data/train_set')"
      ],
      "execution_count": 7,
      "outputs": []
    },
    {
      "cell_type": "code",
      "metadata": {
        "id": "BAHgGEFHH3dy"
      },
      "source": [
        "l =[] \n",
        "for x in lables:\n",
        "  y = x.lstrip('0')\n",
        "  if y == '':\n",
        "    l.append(0)\n",
        "  else:  \n",
        "    l.append(int(y))\n"
      ],
      "execution_count": 8,
      "outputs": []
    },
    {
      "cell_type": "code",
      "metadata": {
        "id": "R7sbLcCuyKzJ"
      },
      "source": [
        "train_label = pd.read_csv('/content/train_labels.csv')\n",
        "\n"
      ],
      "execution_count": 9,
      "outputs": []
    },
    {
      "cell_type": "code",
      "metadata": {
        "id": "Bnr3DLelKbLb"
      },
      "source": [
        "target_train = []\n",
        "for x in l:\n",
        "  target_train.append(train_label[train_label['BraTS21ID']==x]['MGMT_value'])"
      ],
      "execution_count": 10,
      "outputs": []
    },
    {
      "cell_type": "code",
      "metadata": {
        "id": "JszrxxDpPBFE"
      },
      "source": [
        "target_train = np.array(target_train)"
      ],
      "execution_count": 11,
      "outputs": []
    },
    {
      "cell_type": "code",
      "metadata": {
        "id": "3N289E2ZPuS_"
      },
      "source": [
        "tain_set_org_path = '/content/sample_data/train_set'\n",
        "l = os.listdir(tain_set_org_path)\n",
        "path5=[]\n",
        "for x in l:\n",
        "  path1 = os.path.join(tain_set_org_path,x)\n",
        "  path2 = os.listdir(path1)\n",
        "  for z in path2:\n",
        "    path3 = os.path.join(path1,z)\n",
        "    path4 = os.listdir(path3)\n",
        "    for y in path4:\n",
        "      path5.append(os.path.join(path3,y))\n",
        "\n",
        "\n"
      ],
      "execution_count": 12,
      "outputs": []
    },
    {
      "cell_type": "code",
      "metadata": {
        "id": "G0LUFIOZivSQ"
      },
      "source": [
        "NUM_IMAGES_3D = 64\n",
        "TRAINING_BATCH_SIZE = 8\n",
        "TEST_BATCH_SIZE = 8\n",
        "IMAGE_SIZE = 64\n",
        "N_EPOCHS = 15\n",
        "do_valid = True\n",
        "n_workers = 4\n"
      ],
      "execution_count": 13,
      "outputs": []
    },
    {
      "cell_type": "code",
      "metadata": {
        "id": "XI6UGFpbhssq"
      },
      "source": [
        "def load_dicom_image(path, img_size=IMAGE_SIZE, voi_lut=True, rotate=0):\n",
        "    dicom = pydicom.read_file(path)\n",
        "    data = dicom.pixel_array\n",
        "    if voi_lut:\n",
        "        data = apply_voi_lut(dicom.pixel_array, dicom)\n",
        "    else:\n",
        "        data = dicom.pixel_array\n",
        "\n",
        "    if rotate > 0:\n",
        "        rot_choices = [\n",
        "            0,\n",
        "            cv2.ROTATE_90_CLOCKWISE,\n",
        "            cv2.ROTATE_90_COUNTERCLOCKWISE,\n",
        "            cv2.ROTATE_180,\n",
        "        ]\n",
        "        data = cv2.rotate(data, rot_choices[rotate])\n",
        "\n",
        "    data = cv2.resize(data, (img_size, img_size))\n",
        "    return data"
      ],
      "execution_count": 14,
      "outputs": []
    },
    {
      "cell_type": "code",
      "metadata": {
        "id": "2H6XQewXi2S_"
      },
      "source": [
        "from google.colab.patches import cv2_imshow\n",
        "def subset_of_data_set(path5):\n",
        "  data = []\n",
        "  for x in path5:\n",
        "    num_imgs = NUM_IMAGES_3D\n",
        "    img_size=IMAGE_SIZE\n",
        "    out = [load_dicom_image(x)]\n",
        "    img3d = np.stack(out).T\n",
        "    if img3d.shape[-1] < num_imgs:\n",
        "      n_zero = np.zeros((img_size, img_size, num_imgs - img3d.shape[-1]))\n",
        "      img3d = np.concatenate((img3d, n_zero), axis=-1)\n",
        "    if np.min(img3d) < np.max(img3d):\n",
        "      img3d = img3d - np.min(img3d)\n",
        "      img3d = img3d / np.max(img3d)\n",
        "    data.append(out)    \n",
        "  return np.array(data)\n",
        "\n"
      ],
      "execution_count": 15,
      "outputs": []
    },
    {
      "cell_type": "code",
      "metadata": {
        "id": "p3_2BWWpGR8x"
      },
      "source": [
        "def subset_of_data_set1(path5):\n",
        "  data = []\n",
        "  for x in path5:\n",
        "    out = [load_dicom_image(x)]\n",
        "    data.append(out)    \n",
        "  return np.array(data)"
      ],
      "execution_count": 16,
      "outputs": []
    },
    {
      "cell_type": "code",
      "metadata": {
        "id": "enzErIeytNy9"
      },
      "source": [
        "data = subset_of_data_set1(path5[0:-1:5])"
      ],
      "execution_count": 17,
      "outputs": []
    },
    {
      "cell_type": "code",
      "metadata": {
        "colab": {
          "base_uri": "https://localhost:8080/"
        },
        "id": "rqhdq34s5WZt",
        "outputId": "8e4f4bb2-7b92-4355-b5ff-db2bd1297a2b"
      },
      "source": [
        "data.shape"
      ],
      "execution_count": 18,
      "outputs": [
        {
          "output_type": "execute_result",
          "data": {
            "text/plain": [
              "(3895, 1, 64, 64)"
            ]
          },
          "metadata": {},
          "execution_count": 18
        }
      ]
    },
    {
      "cell_type": "code",
      "metadata": {
        "id": "R0-_DpaOIMku"
      },
      "source": [
        "data1 = data.reshape(data.shape[0],data.shape[-1],data.shape[-2],1)"
      ],
      "execution_count": 19,
      "outputs": []
    },
    {
      "cell_type": "code",
      "metadata": {
        "id": "vlpIQxh6UXih"
      },
      "source": [
        "y1 =[]\n",
        "for i  in range(len(path5[0:-1:5])):\n",
        "  y = path5[i].split('/')[-3].lstrip('0')\n",
        "  if y == '':\n",
        "    y1.append(0)\n",
        "  else:  \n",
        "    y1.append(int(y))\n",
        "\n"
      ],
      "execution_count": 20,
      "outputs": []
    },
    {
      "cell_type": "code",
      "metadata": {
        "id": "CHV5fhuNURPv"
      },
      "source": [
        "target_train1 = []\n",
        "for x in y1:\n",
        "  target_train1.append(train_label[train_label['BraTS21ID']==x]['MGMT_value'].values)"
      ],
      "execution_count": 21,
      "outputs": []
    },
    {
      "cell_type": "code",
      "metadata": {
        "id": "6RP8B0HYXfqK"
      },
      "source": [
        "target_train2 = np.array(target_train1)"
      ],
      "execution_count": 22,
      "outputs": []
    },
    {
      "cell_type": "code",
      "metadata": {
        "colab": {
          "base_uri": "https://localhost:8080/"
        },
        "id": "h2CAH-u7YB8e",
        "outputId": "f1e79ca6-364e-43ee-807c-6e340c3df4ab"
      },
      "source": [
        "one_hot_r=pd.get_dummies(target_train2.ravel(), prefix_sep='_', drop_first=False)\n",
        "target1=np.array(one_hot_r)\n",
        "target1.shape"
      ],
      "execution_count": 23,
      "outputs": [
        {
          "output_type": "execute_result",
          "data": {
            "text/plain": [
              "(3895, 2)"
            ]
          },
          "metadata": {},
          "execution_count": 23
        }
      ]
    },
    {
      "cell_type": "code",
      "metadata": {
        "id": "BoyqEljxZdji"
      },
      "source": [
        "from sklearn.model_selection import train_test_split\n",
        "train_set, test_set,target_train,target_test = train_test_split(data1, target1, test_size=0.3,random_state=0)"
      ],
      "execution_count": 55,
      "outputs": []
    },
    {
      "cell_type": "code",
      "metadata": {
        "colab": {
          "base_uri": "https://localhost:8080/"
        },
        "id": "vabi5vtyi-Yy",
        "outputId": "6249b0b7-1449-4e2c-9c0a-03218daf60cd"
      },
      "source": [
        "print(target_train.shape,target_test.shape)\n",
        "print(test_set.shape)\n",
        "print(train_set.shape)"
      ],
      "execution_count": 25,
      "outputs": [
        {
          "output_type": "stream",
          "name": "stdout",
          "text": [
            "(2726, 2) (1169, 2)\n",
            "(1169, 64, 64, 1)\n",
            "(2726, 64, 64, 1)\n"
          ]
        }
      ]
    },
    {
      "cell_type": "code",
      "metadata": {
        "colab": {
          "base_uri": "https://localhost:8080/"
        },
        "id": "QIMPD3oQqG_t",
        "outputId": "762e7950-0000-4b72-f984-d1e453d71493"
      },
      "source": [
        "!pip install keras-resnet"
      ],
      "execution_count": 26,
      "outputs": [
        {
          "output_type": "stream",
          "name": "stdout",
          "text": [
            "Collecting keras-resnet\n",
            "  Downloading keras-resnet-0.2.0.tar.gz (9.3 kB)\n",
            "Requirement already satisfied: keras>=2.2.4 in /usr/local/lib/python3.7/dist-packages (from keras-resnet) (2.7.0)\n",
            "Building wheels for collected packages: keras-resnet\n",
            "  Building wheel for keras-resnet (setup.py) ... \u001b[?25l\u001b[?25hdone\n",
            "  Created wheel for keras-resnet: filename=keras_resnet-0.2.0-py2.py3-none-any.whl size=20486 sha256=9fe3f4e0681bca43435184936ad1cc84b8fa7810add29e4783dfab63195f4a6e\n",
            "  Stored in directory: /root/.cache/pip/wheels/bd/ef/06/5d65f696360436c3a423020c4b7fd8c558c09ef264a0e6c575\n",
            "Successfully built keras-resnet\n",
            "Installing collected packages: keras-resnet\n",
            "Successfully installed keras-resnet-0.2.0\n"
          ]
        }
      ]
    },
    {
      "cell_type": "code",
      "metadata": {
        "id": "ZSjTQkpdlWN1"
      },
      "source": [
        "import keras\n",
        "import keras_resnet.models\n",
        "from keras.layers import Input\n",
        "from keras.layers import Flatten\n",
        "from keras.layers import Dropout\n",
        "from keras.layers import Dense\n",
        "from keras import Model"
      ],
      "execution_count": 27,
      "outputs": []
    },
    {
      "cell_type": "code",
      "metadata": {
        "colab": {
          "base_uri": "https://localhost:8080/"
        },
        "id": "zUryzIC0lbQt",
        "outputId": "eee02db9-13be-436f-c495-f9b40dea3b89"
      },
      "source": [
        "shape, classes = (train_set.shape[1], train_set.shape[2], 1), 2\n",
        "input = Input(shape=(train_set.shape[1], train_set.shape[2], 1))\n",
        "model = keras_resnet.models.ResNet50(input, classes=classes)\n",
        "last_layer = model.get_layer('pool5').output\n",
        "last_layer1 = Dropout(0.40)(last_layer)\n",
        "x= Flatten(name='flatten')(last_layer1)\n",
        "x = Dropout(0.40)(x)\n",
        "out = Dense(2, activation='softmax', name='output_layer')(x)\n",
        "custom_resnet_model = Model(inputs=input,outputs= out)\n",
        "\n",
        "custom_resnet_model.compile(\"adam\", \"binary_crossentropy\", [\"accuracy\"])\n",
        "hist = custom_resnet_model.fit(train_set, target_train, batch_size=512,validation_batch_size=512,epochs=40, verbose=1, validation_split=0.2)\n",
        "custom_resnet_model.save(\"ResNet.h5\")"
      ],
      "execution_count": 28,
      "outputs": [
        {
          "output_type": "stream",
          "name": "stdout",
          "text": [
            "Epoch 1/40\n",
            "5/5 [==============================] - 266s 50s/step - loss: 1.1614 - accuracy: 0.6752 - val_loss: 296370.3125 - val_accuracy: 0.7289\n",
            "Epoch 2/40\n",
            "5/5 [==============================] - 259s 50s/step - loss: 0.8626 - accuracy: 0.6913 - val_loss: 3498973.2500 - val_accuracy: 0.7289\n",
            "Epoch 3/40\n",
            "5/5 [==============================] - 258s 50s/step - loss: 0.7328 - accuracy: 0.7156 - val_loss: 3220733.2500 - val_accuracy: 0.7289\n",
            "Epoch 4/40\n",
            "5/5 [==============================] - 255s 49s/step - loss: 0.7532 - accuracy: 0.7023 - val_loss: 2898460.0000 - val_accuracy: 0.7289\n",
            "Epoch 5/40\n",
            "5/5 [==============================] - 260s 50s/step - loss: 0.6882 - accuracy: 0.7252 - val_loss: 1086927.8750 - val_accuracy: 0.7289\n",
            "Epoch 6/40\n",
            "5/5 [==============================] - 260s 50s/step - loss: 0.6073 - accuracy: 0.7431 - val_loss: 80694.4219 - val_accuracy: 0.7289\n",
            "Epoch 7/40\n",
            "5/5 [==============================] - 268s 52s/step - loss: 0.5948 - accuracy: 0.7729 - val_loss: 96143.7656 - val_accuracy: 0.7289\n",
            "Epoch 8/40\n",
            "5/5 [==============================] - 258s 50s/step - loss: 0.4620 - accuracy: 0.8257 - val_loss: 18122.6855 - val_accuracy: 0.7289\n",
            "Epoch 9/40\n",
            "5/5 [==============================] - 269s 51s/step - loss: 0.6342 - accuracy: 0.7872 - val_loss: 44880.6289 - val_accuracy: 0.7289\n",
            "Epoch 10/40\n",
            "5/5 [==============================] - 258s 50s/step - loss: 0.5317 - accuracy: 0.7830 - val_loss: 14519.2803 - val_accuracy: 0.7289\n",
            "Epoch 11/40\n",
            "5/5 [==============================] - 258s 50s/step - loss: 0.4168 - accuracy: 0.8330 - val_loss: 3647.2820 - val_accuracy: 0.7289\n",
            "Epoch 12/40\n",
            "5/5 [==============================] - 255s 49s/step - loss: 0.3094 - accuracy: 0.8752 - val_loss: 4833.1724 - val_accuracy: 0.7289\n",
            "Epoch 13/40\n",
            "5/5 [==============================] - 272s 53s/step - loss: 0.2846 - accuracy: 0.8867 - val_loss: 2191.6379 - val_accuracy: 0.7289\n",
            "Epoch 14/40\n",
            "5/5 [==============================] - 259s 50s/step - loss: 0.3103 - accuracy: 0.8674 - val_loss: 1553.4944 - val_accuracy: 0.7289\n",
            "Epoch 15/40\n",
            "5/5 [==============================] - 256s 49s/step - loss: 0.2699 - accuracy: 0.8858 - val_loss: 1132.6783 - val_accuracy: 0.7289\n",
            "Epoch 16/40\n",
            "5/5 [==============================] - 266s 52s/step - loss: 0.2623 - accuracy: 0.8931 - val_loss: 1321.0544 - val_accuracy: 0.7289\n",
            "Epoch 17/40\n",
            "5/5 [==============================] - 256s 49s/step - loss: 0.2622 - accuracy: 0.8945 - val_loss: 1155.4576 - val_accuracy: 0.7289\n",
            "Epoch 18/40\n",
            "5/5 [==============================] - 272s 52s/step - loss: 0.2913 - accuracy: 0.8849 - val_loss: 1233.7174 - val_accuracy: 0.7289\n",
            "Epoch 19/40\n",
            "5/5 [==============================] - 258s 50s/step - loss: 0.2617 - accuracy: 0.8922 - val_loss: 1621.5396 - val_accuracy: 0.7289\n",
            "Epoch 20/40\n",
            "5/5 [==============================] - 260s 50s/step - loss: 0.2519 - accuracy: 0.9060 - val_loss: 533.3229 - val_accuracy: 0.7289\n",
            "Epoch 21/40\n",
            "5/5 [==============================] - 254s 49s/step - loss: 0.2022 - accuracy: 0.9165 - val_loss: 104.1385 - val_accuracy: 0.7271\n",
            "Epoch 22/40\n",
            "5/5 [==============================] - 257s 49s/step - loss: 0.2068 - accuracy: 0.9165 - val_loss: 96.2742 - val_accuracy: 0.7289\n",
            "Epoch 23/40\n",
            "5/5 [==============================] - 257s 49s/step - loss: 0.2599 - accuracy: 0.8927 - val_loss: 208.1332 - val_accuracy: 0.7289\n",
            "Epoch 24/40\n",
            "5/5 [==============================] - 260s 50s/step - loss: 0.2496 - accuracy: 0.9000 - val_loss: 197.4412 - val_accuracy: 0.7289\n",
            "Epoch 25/40\n",
            "5/5 [==============================] - 259s 49s/step - loss: 0.2302 - accuracy: 0.9032 - val_loss: 152.2280 - val_accuracy: 0.7289\n",
            "Epoch 26/40\n",
            "5/5 [==============================] - 258s 50s/step - loss: 0.2009 - accuracy: 0.9206 - val_loss: 102.8949 - val_accuracy: 0.7308\n",
            "Epoch 27/40\n",
            "5/5 [==============================] - 261s 50s/step - loss: 0.1959 - accuracy: 0.9193 - val_loss: 71.7721 - val_accuracy: 0.7289\n",
            "Epoch 28/40\n",
            "5/5 [==============================] - 256s 49s/step - loss: 0.2930 - accuracy: 0.8931 - val_loss: 3.8346 - val_accuracy: 0.6575\n",
            "Epoch 29/40\n",
            "5/5 [==============================] - 260s 50s/step - loss: 0.2975 - accuracy: 0.8821 - val_loss: 4.2046 - val_accuracy: 0.7289\n",
            "Epoch 30/40\n",
            "5/5 [==============================] - 255s 49s/step - loss: 0.2736 - accuracy: 0.8931 - val_loss: 1.2839 - val_accuracy: 0.6630\n",
            "Epoch 31/40\n",
            "5/5 [==============================] - 255s 49s/step - loss: 0.2228 - accuracy: 0.9073 - val_loss: 1.2706 - val_accuracy: 0.7143\n",
            "Epoch 32/40\n",
            "5/5 [==============================] - 256s 49s/step - loss: 0.2071 - accuracy: 0.9142 - val_loss: 6.0595 - val_accuracy: 0.7253\n",
            "Epoch 33/40\n",
            "5/5 [==============================] - 255s 49s/step - loss: 0.2053 - accuracy: 0.9151 - val_loss: 117.7725 - val_accuracy: 0.7289\n",
            "Epoch 34/40\n",
            "5/5 [==============================] - 258s 50s/step - loss: 0.2234 - accuracy: 0.9110 - val_loss: 169.3524 - val_accuracy: 0.7289\n",
            "Epoch 35/40\n",
            "5/5 [==============================] - 255s 49s/step - loss: 0.2122 - accuracy: 0.9106 - val_loss: 157.7262 - val_accuracy: 0.7271\n",
            "Epoch 36/40\n",
            "5/5 [==============================] - 255s 49s/step - loss: 0.2041 - accuracy: 0.9128 - val_loss: 158.6430 - val_accuracy: 0.7253\n",
            "Epoch 37/40\n",
            "5/5 [==============================] - 262s 49s/step - loss: 0.2384 - accuracy: 0.9018 - val_loss: 101.9002 - val_accuracy: 0.7289\n",
            "Epoch 38/40\n",
            "5/5 [==============================] - 259s 50s/step - loss: 0.2114 - accuracy: 0.9133 - val_loss: 59.5635 - val_accuracy: 0.7289\n",
            "Epoch 39/40\n",
            "5/5 [==============================] - 259s 50s/step - loss: 0.2003 - accuracy: 0.9179 - val_loss: 1.3503 - val_accuracy: 0.6648\n",
            "Epoch 40/40\n",
            "5/5 [==============================] - 256s 50s/step - loss: 0.2150 - accuracy: 0.9133 - val_loss: 1.2305 - val_accuracy: 0.7161\n"
          ]
        },
        {
          "output_type": "stream",
          "name": "stderr",
          "text": [
            "/usr/local/lib/python3.7/dist-packages/keras/engine/functional.py:1410: CustomMaskWarning: Custom mask layers require a config and must override get_config. When loading, the custom mask layer must be passed to the custom_objects argument.\n",
            "  layer_config = serialize_layer_fn(layer)\n"
          ]
        }
      ]
    },
    {
      "cell_type": "code",
      "metadata": {
        "id": "3FNHHf_kJzVN"
      },
      "source": [
        "!cp /content/ResNet.h5 /content/drive/MyDrive "
      ],
      "execution_count": 38,
      "outputs": []
    },
    {
      "cell_type": "code",
      "metadata": {
        "colab": {
          "base_uri": "https://localhost:8080/",
          "height": 355
        },
        "id": "_-I-GForyFCK",
        "outputId": "d35eb8af-f3f8-4158-d1e1-ae8473083039"
      },
      "source": [
        "import pandas as pd\n",
        "pd.DataFrame(hist.history).plot(figsize=(10, 5))\n",
        "plt.grid(True)\n",
        "plt.gca().set_ylim(0, 2) # set the vertical range to [0-1]\n",
        "plt.xlabel('number of epochs', fontsize=14)\n",
        "plt.ylabel('accuracy and loss', fontsize=14)\n",
        "plt.title('result of classification with Resnet',fontsize=16)\n",
        "plt.show()"
      ],
      "execution_count": 29,
      "outputs": [
        {
          "output_type": "display_data",
          "data": {
            "image/png": "[encoded data removed]",
            "text/plain": [
              "<Figure size 720x360 with 1 Axes>"
            ]
          },
          "metadata": {
            "needs_background": "light"
          }
        }
      ]
    },
    {
      "cell_type": "code",
      "metadata": {
        "colab": {
          "base_uri": "https://localhost:8080/"
        },
        "id": "Iwcus-kQySJY",
        "outputId": "bc63a106-48ae-4688-a23b-7570b962a293"
      },
      "source": [
        "custom_resnet_model.evaluate(test_set,target_test)"
      ],
      "execution_count": 30,
      "outputs": [
        {
          "output_type": "stream",
          "name": "stdout",
          "text": [
            "37/37 [==============================] - 12s 335ms/step - loss: 1.3236 - accuracy: 0.7117\n"
          ]
        },
        {
          "output_type": "execute_result",
          "data": {
            "text/plain": [
              "[1.3235979080200195, 0.7117193937301636]"
            ]
          },
          "metadata": {},
          "execution_count": 30
        }
      ]
    },
    {
      "cell_type": "code",
      "metadata": {
        "id": "Ur86Hgq0jV4U"
      },
      "source": [
        "pred = custom_resnet_model.predict(test_set)"
      ],
      "execution_count": 56,
      "outputs": []
    },
    {
      "cell_type": "code",
      "metadata": {
        "id": "0wHdnzhmMuZ1"
      },
      "source": [
        "predd = custom_resnet_model.predict(train_set)"
      ],
      "execution_count": 57,
      "outputs": []
    },
    {
      "cell_type": "code",
      "metadata": {
        "id": "JPvxGZgvM5F7"
      },
      "source": [
        "pred_total = pd.concat([pd.DataFrame(predd),pd.DataFrame(pred)])\n",
        "pred_total = np.array(pred_total)"
      ],
      "execution_count": 63,
      "outputs": []
    },
    {
      "cell_type": "code",
      "metadata": {
        "id": "_19E83tWN_Tb"
      },
      "source": [
        "pred_total1=[]\n",
        "for x in pred_total:\n",
        "  pred_total1.append(max(x))\n"
      ],
      "execution_count": 64,
      "outputs": []
    },
    {
      "cell_type": "code",
      "metadata": {
        "id": "NpIgBoTLOnvx"
      },
      "source": [
        "pd.DataFrame(pred_total).value_counts()"
      ],
      "execution_count": null,
      "outputs": []
    },
    {
      "cell_type": "code",
      "metadata": {
        "id": "N-DSsXZNOWy1"
      },
      "source": [
        "pred_total1 = pd.DataFrame(pred_total1)"
      ],
      "execution_count": 65,
      "outputs": []
    },
    {
      "cell_type": "code",
      "metadata": {
        "id": "pKRrui0ZNkX2"
      },
      "source": [
        "train_label['pred_total'] = pred_total1"
      ],
      "execution_count": 66,
      "outputs": []
    },
    {
      "cell_type": "code",
      "metadata": {
        "colab": {
          "base_uri": "https://localhost:8080/",
          "height": 414
        },
        "id": "_tR1S-AhOdqv",
        "outputId": "6cceaeb1-ffd1-4ef9-8f65-f2e67bf76620"
      },
      "source": [
        "train_label"
      ],
      "execution_count": 67,
      "outputs": [
        {
          "output_type": "execute_result",
          "data": {
            "text/html": [
              "<div>\n",
              "<style scoped>\n",
              "    .dataframe tbody tr th:only-of-type {\n",
              "        vertical-align: middle;\n",
              "    }\n",
              "\n",
              "    .dataframe tbody tr th {\n",
              "        vertical-align: top;\n",
              "    }\n",
              "\n",
              "    .dataframe thead th {\n",
              "        text-align: right;\n",
              "    }\n",
              "</style>\n",
              "<table border=\"1\" class=\"dataframe\">\n",
              "  <thead>\n",
              "    <tr style=\"text-align: right;\">\n",
              "      <th></th>\n",
              "      <th>BraTS21ID</th>\n",
              "      <th>MGMT_value</th>\n",
              "      <th>pred_total</th>\n",
              "    </tr>\n",
              "  </thead>\n",
              "  <tbody>\n",
              "    <tr>\n",
              "      <th>0</th>\n",
              "      <td>0</td>\n",
              "      <td>1</td>\n",
              "      <td>0.936618</td>\n",
              "    </tr>\n",
              "    <tr>\n",
              "      <th>1</th>\n",
              "      <td>2</td>\n",
              "      <td>1</td>\n",
              "      <td>0.999629</td>\n",
              "    </tr>\n",
              "    <tr>\n",
              "      <th>2</th>\n",
              "      <td>3</td>\n",
              "      <td>0</td>\n",
              "      <td>0.994622</td>\n",
              "    </tr>\n",
              "    <tr>\n",
              "      <th>3</th>\n",
              "      <td>5</td>\n",
              "      <td>1</td>\n",
              "      <td>0.999758</td>\n",
              "    </tr>\n",
              "    <tr>\n",
              "      <th>4</th>\n",
              "      <td>6</td>\n",
              "      <td>1</td>\n",
              "      <td>0.995319</td>\n",
              "    </tr>\n",
              "    <tr>\n",
              "      <th>...</th>\n",
              "      <td>...</td>\n",
              "      <td>...</td>\n",
              "      <td>...</td>\n",
              "    </tr>\n",
              "    <tr>\n",
              "      <th>580</th>\n",
              "      <td>1005</td>\n",
              "      <td>1</td>\n",
              "      <td>0.999999</td>\n",
              "    </tr>\n",
              "    <tr>\n",
              "      <th>581</th>\n",
              "      <td>1007</td>\n",
              "      <td>1</td>\n",
              "      <td>0.946241</td>\n",
              "    </tr>\n",
              "    <tr>\n",
              "      <th>582</th>\n",
              "      <td>1008</td>\n",
              "      <td>1</td>\n",
              "      <td>1.000000</td>\n",
              "    </tr>\n",
              "    <tr>\n",
              "      <th>583</th>\n",
              "      <td>1009</td>\n",
              "      <td>0</td>\n",
              "      <td>0.999999</td>\n",
              "    </tr>\n",
              "    <tr>\n",
              "      <th>584</th>\n",
              "      <td>1010</td>\n",
              "      <td>0</td>\n",
              "      <td>0.999985</td>\n",
              "    </tr>\n",
              "  </tbody>\n",
              "</table>\n",
              "<p>585 rows × 3 columns</p>\n",
              "</div>"
            ],
            "text/plain": [
              "     BraTS21ID  MGMT_value  pred_total\n",
              "0            0           1    0.936618\n",
              "1            2           1    0.999629\n",
              "2            3           0    0.994622\n",
              "3            5           1    0.999758\n",
              "4            6           1    0.995319\n",
              "..         ...         ...         ...\n",
              "580       1005           1    0.999999\n",
              "581       1007           1    0.946241\n",
              "582       1008           1    1.000000\n",
              "583       1009           0    0.999999\n",
              "584       1010           0    0.999985\n",
              "\n",
              "[585 rows x 3 columns]"
            ]
          },
          "metadata": {},
          "execution_count": 67
        }
      ]
    },
    {
      "cell_type": "code",
      "metadata": {
        "colab": {
          "base_uri": "https://localhost:8080/"
        },
        "id": "LRJ3sCBokhBr",
        "outputId": "0fc24a93-4494-4f42-a235-6d62e4005ca4"
      },
      "source": [
        "pd.DataFrame(target_test).value_counts()"
      ],
      "execution_count": 33,
      "outputs": [
        {
          "output_type": "execute_result",
          "data": {
            "text/plain": [
              "0  1\n",
              "0  1    832\n",
              "1  0    337\n",
              "dtype: int64"
            ]
          },
          "metadata": {},
          "execution_count": 33
        }
      ]
    },
    {
      "cell_type": "code",
      "metadata": {
        "id": "ajq_OTmcLsLj"
      },
      "source": [
        "pred1=[]\n",
        "for x in pred:\n",
        "  pred1.append(max(x))"
      ],
      "execution_count": 50,
      "outputs": []
    },
    {
      "cell_type": "code",
      "metadata": {
        "colab": {
          "base_uri": "https://localhost:8080/",
          "height": 282
        },
        "id": "pNLyeT8sL3Om",
        "outputId": "fc6ad3b0-e766-4037-aa52-e0cbe5b2dc99"
      },
      "source": [
        "plt.bar(range(len(pred1)) ,pred1)"
      ],
      "execution_count": 54,
      "outputs": [
        {
          "output_type": "execute_result",
          "data": {
            "text/plain": [
              "<BarContainer object of 1169 artists>"
            ]
          },
          "metadata": {},
          "execution_count": 54
        },
        {
          "output_type": "display_data",
          "data": {
            "image/png": "[encoded data removed]",
            "text/plain": [
              "<Figure size 432x288 with 1 Axes>"
            ]
          },
          "metadata": {
            "needs_background": "light"
          }
        }
      ]
    },
    {
      "cell_type": "code",
      "metadata": {
        "id": "ml4KgA0sMhTp"
      },
      "source": [
        ""
      ],
      "execution_count": null,
      "outputs": []
    },
    {
      "cell_type": "code",
      "metadata": {
        "colab": {
          "base_uri": "https://localhost:8080/"
        },
        "id": "S51AykNGkx8X",
        "outputId": "5f3a1a53-c777-4377-9bad-91e0f92561a4"
      },
      "source": [
        "pd.DataFrame(pred).value_counts()"
      ],
      "execution_count": 53,
      "outputs": [
        {
          "output_type": "execute_result",
          "data": {
            "text/plain": [
              "0             1       \n",
              "1.536546e-06  0.999998    110\n",
              "1.536544e-06  0.999998      6\n",
              "1.808923e-01  0.819108      5\n",
              "3.099109e-06  0.999997      2\n",
              "6.896269e-02  0.931037      2\n",
              "                         ... \n",
              "1.246510e-03  0.998753      1\n",
              "1.208978e-03  0.998791      1\n",
              "1.151679e-03  0.998848      1\n",
              "1.098841e-03  0.998901      1\n",
              "3.358094e-35  1.000000      1\n",
              "Length: 1046, dtype: int64"
            ]
          },
          "metadata": {},
          "execution_count": 53
        }
      ]
    },
    {
      "cell_type": "code",
      "metadata": {
        "id": "PeV821mWjygS"
      },
      "source": [
        "out = []\n",
        "for x in pred:\n",
        "  out.append(np.argmax(x))\n",
        "out = np.array(out)"
      ],
      "execution_count": 35,
      "outputs": []
    },
    {
      "cell_type": "code",
      "metadata": {
        "colab": {
          "base_uri": "https://localhost:8080/"
        },
        "id": "dzG3h0j6KKax",
        "outputId": "264e19c8-a9e3-4abd-b00b-38996d19cbd5"
      },
      "source": [
        "pd.DataFrame(out).value_counts()"
      ],
      "execution_count": 42,
      "outputs": [
        {
          "output_type": "execute_result",
          "data": {
            "text/plain": [
              "1    832\n",
              "0    337\n",
              "dtype: int64"
            ]
          },
          "metadata": {},
          "execution_count": 42
        }
      ]
    },
    {
      "cell_type": "code",
      "metadata": {
        "colab": {
          "base_uri": "https://localhost:8080/",
          "height": 282
        },
        "id": "X5RYUOzeKPk7",
        "outputId": "e3cae169-0b7a-44ab-e2d5-e33b35bfd4ce"
      },
      "source": [
        "plt.bar(np.arange(0,2) ,pd.DataFrame(out).value_counts())"
      ],
      "execution_count": 48,
      "outputs": [
        {
          "output_type": "execute_result",
          "data": {
            "text/plain": [
              "<BarContainer object of 2 artists>"
            ]
          },
          "metadata": {},
          "execution_count": 48
        },
        {
          "output_type": "display_data",
          "data": {
            "image/png": "[encoded data removed]",
            "text/plain": [
              "<Figure size 432x288 with 1 Axes>"
            ]
          },
          "metadata": {
            "needs_background": "light"
          }
        }
      ]
    }
  ]
}